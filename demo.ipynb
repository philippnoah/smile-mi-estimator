{
 "cells": [
  {
   "cell_type": "code",
   "execution_count": 1,
   "metadata": {},
   "outputs": [],
   "source": [
    "%matplotlib inline\n",
    "%load_ext autoreload\n",
    "%autoreload 2\n",
    "\n",
    "import numpy as np\n",
    "import pandas as pd\n",
    "import torch\n",
    "import torch.nn as nn\n",
    "import torch.nn.functional as F\n",
    "import torch.optim as optim\n",
    "# import pdb\n",
    "import matplotlib.pyplot as plt\n",
    "import seaborn as sns"
   ]
  },
  {
   "cell_type": "markdown",
   "metadata": {},
   "source": [
    "Import relevant helper functions.\n",
    "The utils file contains implementations of dataset-specific functions, and the estimators file implements several different estimators including:\n",
    "- InfoNCE\n",
    "- NWJ lower bound\n",
    "- NWJ eval + JS train\n",
    "- Donsker-Varadhan lower bound\n",
    "- SMILE"
   ]
  },
  {
   "cell_type": "markdown",
   "metadata": {},
   "source": [
    "Next, we define the helper function for setting up the training procedure."
   ]
  },
  {
   "cell_type": "code",
   "execution_count": 2,
   "metadata": {},
   "outputs": [],
   "source": [
    "from utils import *\n",
    "from estimators import estimate_mutual_information"
   ]
  },
  {
   "cell_type": "code",
   "execution_count": 12,
   "metadata": {},
   "outputs": [],
   "source": [
    "# define the dimension of the Gaussian\n",
    "\n",
    "dim = 20\n",
    "y_dim = 10\n",
    "\n",
    "# define the training procedure\n",
    "\n",
    "CRITICS = {\n",
    "    'separable': SeparableCritic,\n",
    "    'concat': ConcatCritic,\n",
    "}\n",
    "\n",
    "BASELINES = {\n",
    "    'constant': lambda: None,\n",
    "    # 'unnormalized': lambda: mlp(dim=dim, hidden_dim=512, output_dim=1, layers=2, activation='relu').cuda(),\n",
    "    'unnormalized': lambda: mlp(dim=y_dim, hidden_dim=512, output_dim=1, layers=2, activation='relu').cpu(),\n",
    "    'gaussian': lambda: log_prob_gaussian,\n",
    "}\n",
    "\n",
    "\n",
    "def train_estimator(critic_params, data_params, mi_params, opt_params, data_loader=None, **kwargs):\n",
    "    \"\"\"Main training loop that estimates time-varying MI.\"\"\"\n",
    "    # Ground truth rho is only used by conditional critic\n",
    "    # critic = CRITICS[mi_params.get('critic', 'separable')](rho=None, **critic_params).cuda()\n",
    "    critic = CRITICS[mi_params.get('critic', 'separable')](rho=None, **critic_params).cpu()\n",
    "    baseline = BASELINES[mi_params.get('baseline', 'constant')]()\n",
    "\n",
    "    opt_crit = optim.Adam(critic.parameters(), lr=opt_params['learning_rate'])\n",
    "    if isinstance(baseline, nn.Module):\n",
    "        opt_base = optim.Adam(baseline.parameters(),\n",
    "                              lr=opt_params['learning_rate'])\n",
    "    else:\n",
    "        opt_base = None\n",
    "\n",
    "    def train_step(rho, data_params, mi_params):\n",
    "        # Annoying special case:\n",
    "        # For the true conditional, the critic depends on the true correlation rho,\n",
    "        # so we rebuild the critic at each iteration.\n",
    "        opt_crit.zero_grad()\n",
    "        if isinstance(baseline, nn.Module):\n",
    "            opt_base.zero_grad()\n",
    "\n",
    "        if mi_params['critic'] == 'conditional':\n",
    "            # critic_ = CRITICS['conditional'](rho=rho).cuda()\n",
    "            critic_ = CRITICS['conditional'](rho=rho).cpu()\n",
    "        else:\n",
    "            critic_ = critic\n",
    "\n",
    "        # batch_idx, (x, y) = next(data_loader)\n",
    "        # x = x.squeeze(dim=1)\n",
    "        # x = torch.flatten(x, start_dim=1)\n",
    "\n",
    "        x, y = sample_correlated_gaussian(\n",
    "            dim=data_params['dim'], rho=rho, batch_size=data_params['batch_size'], cubic=data_params['cubic'])\n",
    "        # print(x.shape, y.shape)\n",
    "        mi = estimate_mutual_information(\n",
    "            mi_params['estimator'], x, y, critic_, baseline, mi_params.get('alpha_logit', None), **kwargs)\n",
    "        loss = -mi\n",
    "\n",
    "        loss.backward()\n",
    "        opt_crit.step()\n",
    "        if isinstance(baseline, nn.Module):\n",
    "            opt_base.step()\n",
    "\n",
    "        return mi\n",
    "\n",
    "    # Schedule of correlation over iterations\n",
    "    mis = mi_schedule(opt_params['iterations'])\n",
    "    rhos = mi_to_rho(data_params['dim'], mis)\n",
    "\n",
    "    estimates = []\n",
    "    for i in range(opt_params['iterations']):\n",
    "        mi = train_step(rhos[i], data_params, mi_params)\n",
    "        mi = mi.detach().cpu().numpy()\n",
    "        # if i % (opt_params['iterations']//4) == 0:\n",
    "        #     print('iteration: ', i)\n",
    "        estimates.append(mi)\n",
    "\n",
    "    return np.array(estimates)"
   ]
  },
  {
   "cell_type": "markdown",
   "metadata": {},
   "source": [
    "Parameters for the dataset, critic and optimization are listed below. For `cubic` results, set `'cubic': True` in `data_params`."
   ]
  },
  {
   "cell_type": "code",
   "execution_count": 18,
   "metadata": {},
   "outputs": [],
   "source": [
    "data_params = {\n",
    "    'dim': dim,\n",
    "    'batch_size': 64,\n",
    "    'cubic': None\n",
    "}\n",
    "\n",
    "critic_params = {\n",
    "    'dim': dim,\n",
    "    'layers': 2,\n",
    "    'embed_dim': 32,\n",
    "    'hidden_dim': 256,\n",
    "    'activation': 'relu',\n",
    "}\n",
    "\n",
    "opt_params = {\n",
    "    'iterations': 1000,\n",
    "    'learning_rate': 5e-4,\n",
    "}"
   ]
  },
  {
   "cell_type": "markdown",
   "metadata": {},
   "source": [
    "Perform training over the methods. Each method should take around 2 mins to run on a single GPU under the current experiment setting."
   ]
  },
  {
   "cell_type": "code",
   "execution_count": 5,
   "metadata": {},
   "outputs": [
    {
     "data": {
      "text/plain": [
       "tensor([[0.0572],\n",
       "        [0.0694],\n",
       "        [0.0814],\n",
       "        [0.0523],\n",
       "        [0.0550],\n",
       "        [0.0398],\n",
       "        [0.0474],\n",
       "        [0.0424],\n",
       "        [0.0383],\n",
       "        [0.0333],\n",
       "        [0.0564],\n",
       "        [0.0569],\n",
       "        [0.0311],\n",
       "        [0.0359],\n",
       "        [0.0804],\n",
       "        [0.0767],\n",
       "        [0.0450],\n",
       "        [0.0732],\n",
       "        [0.0354],\n",
       "        [0.0383],\n",
       "        [0.0331],\n",
       "        [0.0579],\n",
       "        [0.0942],\n",
       "        [0.0635],\n",
       "        [0.0195],\n",
       "        [0.0241],\n",
       "        [0.0891],\n",
       "        [0.0699],\n",
       "        [0.0484],\n",
       "        [0.0704],\n",
       "        [0.0590],\n",
       "        [0.1009],\n",
       "        [0.0430],\n",
       "        [0.0317],\n",
       "        [0.0146],\n",
       "        [0.0480],\n",
       "        [0.0700],\n",
       "        [0.0196],\n",
       "        [0.0883],\n",
       "        [0.0324],\n",
       "        [0.0678],\n",
       "        [0.0459],\n",
       "        [0.0507],\n",
       "        [0.0099],\n",
       "        [0.0956],\n",
       "        [0.0297],\n",
       "        [0.1013],\n",
       "        [0.0878],\n",
       "        [0.0336],\n",
       "        [0.0573],\n",
       "        [0.0529],\n",
       "        [0.0644],\n",
       "        [0.0523],\n",
       "        [0.0162],\n",
       "        [0.0326],\n",
       "        [0.0653],\n",
       "        [0.0523],\n",
       "        [0.0233],\n",
       "        [0.0440],\n",
       "        [0.0266],\n",
       "        [0.0430],\n",
       "        [0.0271],\n",
       "        [0.0170],\n",
       "        [0.0271]], grad_fn=<AddmmBackward0>)"
      ]
     },
     "execution_count": 5,
     "metadata": {},
     "output_type": "execute_result"
    }
   ],
   "source": [
    "rho = 0.5\n",
    "x,y = sample_correlated_gaussian(dim=400, rho=rho, batch_size=data_params['batch_size'], cubic=data_params['cubic'])\n",
    "critic = SeparableCritic(dim=dim, hidden_dim=256, embed_dim=32, layers=2, activation='relu')\n",
    "base = mlp(dim=10, hidden_dim=512, output_dim=1, layers=2, activation='relu').cpu()\n",
    "base(y)"
   ]
  },
  {
   "cell_type": "code",
   "execution_count": 19,
   "metadata": {},
   "outputs": [
    {
     "name": "stdout",
     "output_type": "stream",
     "text": [
      " ========  critic:  separable\n",
      " ====  estimator:  infonce\n",
      " ====  estimator:  nwj\n",
      " ====  estimator:  js\n",
      " ====  estimator:  smile\n",
      " ====  clip:  1.0\n",
      " ====  clip:  5.0\n"
     ]
    }
   ],
   "source": [
    "# from utils import *\n",
    "from estimators import estimate_mutual_information\n",
    "\n",
    "mi_numpys = dict()\n",
    "\n",
    "data_loader = None\n",
    "# for critic_type in ['separable', 'concat']:\n",
    "for critic_type in ['separable']:\n",
    "    print(\" ========  critic: \", critic_type)\n",
    "    mi_numpys[critic_type] = dict()\n",
    "\n",
    "    for estimator in ['infonce', 'nwj', 'js', 'smile']:\n",
    "        print(\" ====  estimator: \", estimator)\n",
    "        mi_params = dict(estimator=estimator, critic=critic_type, baseline='unnormalized')\n",
    "        mis = train_estimator(critic_params, data_params, mi_params, opt_params, data_loader=data_loader)\n",
    "        mi_numpys[critic_type][f'{estimator}'] = mis\n",
    "\n",
    "    estimator = 'smile'\n",
    "    for i, clip in enumerate([1.0, 5.0]):\n",
    "        print(\" ====  clip: \", clip)\n",
    "        mi_params = dict(estimator=estimator, critic=critic_type, baseline='unnormalized')\n",
    "        mis = train_estimator(critic_params, data_params, mi_params, opt_params, clip=clip)\n",
    "        mi_numpys[critic_type][f'{estimator}_{clip}'] = mis"
   ]
  },
  {
   "cell_type": "markdown",
   "metadata": {},
   "source": [
    "Plot the results."
   ]
  },
  {
   "cell_type": "code",
   "execution_count": 15,
   "metadata": {},
   "outputs": [],
   "source": [
    "# Plotting helper functions.\n",
    "\n",
    "def find_name(name):\n",
    "    if 'smile_' in name:\n",
    "        clip = name.split('_')[-1]\n",
    "        return f'SMILE ($\\\\tau = {clip}$)'\n",
    "    else:\n",
    "        return {\n",
    "            'infonce': 'CPC',\n",
    "            'js': 'JS',\n",
    "            'nwj': 'NWJ',\n",
    "            'flow': 'GM (Flow)',\n",
    "            'smile': 'SMILE ($\\\\tau = \\\\infty$)'\n",
    "        }[name]\n",
    "\n",
    "def find_legend(label):\n",
    "    return {'concat': 'Joint critic', 'separable': 'Separable critic'}[label]"
   ]
  },
  {
   "cell_type": "code",
   "execution_count": 20,
   "metadata": {},
   "outputs": [
    {
     "data": {
      "image/png": "[encoded data removed]",
      "text/plain": [
       "<Figure size 1440x288 with 5 Axes>"
      ]
     },
     "metadata": {
      "needs_background": "light"
     },
     "output_type": "display_data"
    }
   ],
   "source": [
    "# Plot 5 of the results, InfoNCE, NWJ, Smile 1.0, 5.0, infty\n",
    "\n",
    "ncols = 5\n",
    "nrows = 1\n",
    "EMA_SPAN = 200\n",
    "fig, axs = plt.subplots(nrows, ncols, figsize=(4 * ncols, 4 * nrows))\n",
    "axs = np.ravel(axs)\n",
    "\n",
    "mi_true = mi_schedule(opt_params['iterations'])\n",
    "        \n",
    "for i, estimator in enumerate(['infonce', 'nwj']):\n",
    "    key = f'{estimator}'\n",
    "    plt.sca(axs[i])\n",
    "    plt.title(find_name(key), fontsize=18)\n",
    "    for net in ['separable']:\n",
    "        mis = mi_numpys[net][key]\n",
    "        p1 = plt.plot(mis, alpha=0.3)[0]\n",
    "        mis_smooth = pd.Series(mis).ewm(span=EMA_SPAN).mean()\n",
    "        plt.plot(mis_smooth, c=p1.get_color(), label=find_legend(net))\n",
    "    plt.ylim(0, mi_true.max() * 1.1)\n",
    "    plt.xlim(0, opt_params['iterations'])\n",
    "    plt.plot(mi_true, color='k', label='True MI')\n",
    "    if i == 0:\n",
    "        plt.ylabel('MI (nats)')\n",
    "        plt.xlabel('Steps')\n",
    "        plt.axhline(np.log(64), color='k', ls='--', label='log(bs)')\n",
    "        plt.legend()\n",
    "\n",
    "estimator = 'smile'\n",
    "for i, clip in enumerate([1.0, 5.0, None]):\n",
    "    if clip is None:\n",
    "        key = estimator\n",
    "    else:\n",
    "        key = f'{estimator}_{clip}'\n",
    "\n",
    "    plt.sca(axs[i+2])\n",
    "    plt.title(find_name(key), fontsize=18)\n",
    "    for net in ['separable']:\n",
    "        mis = mi_numpys[net][key]\n",
    "        EMA_SPAN = 200\n",
    "        p1 = plt.plot(mis, alpha=0.3)[0]\n",
    "        mis_smooth = pd.Series(mis).ewm(span=EMA_SPAN).mean()\n",
    "        plt.plot(mis_smooth, c=p1.get_color(), label=find_legend(net))\n",
    "    # plt.plot(mi_true, color='k', label='True MI')\n",
    "    # plt.ylim(0, mi_true.max() * 1.1)\n",
    "    plt.xlim(0, opt_params['iterations'])\n",
    "\n",
    "plt.gcf().tight_layout()"
   ]
  },
  {
   "cell_type": "code",
   "execution_count": null,
   "metadata": {},
   "outputs": [],
   "source": []
  },
  {
   "cell_type": "markdown",
   "metadata": {},
   "source": [
    "From the results above, the SMILE estimators have much better performance compared to the alternative methods with clipping.\n",
    "We note that SMILE (infty) is simply a version of DV + JS, where we obtain density ratios from JS and use DV to directly estimate the mutual information. This has much higher variance, and is biased lower."
   ]
  },
  {
   "cell_type": "code",
   "execution_count": null,
   "metadata": {},
   "outputs": [],
   "source": []
  }
 ],
 "metadata": {
  "file_extension": ".py",
  "kernelspec": {
   "display_name": "Python 3",
   "name": "python3"
  },
  "language_info": {
   "codemirror_mode": {
    "name": "ipython",
    "version": 3
   },
   "file_extension": ".py",
   "mimetype": "text/x-python",
   "name": "python",
   "nbconvert_exporter": "python",
   "pygments_lexer": "ipython3",
   "version": "3.9.7"
  },
  "mimetype": "text/x-python",
  "name": "python",
  "npconvert_exporter": "python",
  "orig_nbformat": 2,
  "pygments_lexer": "ipython3",
  "version": 3
 },
 "nbformat": 4,
 "nbformat_minor": 2
}
