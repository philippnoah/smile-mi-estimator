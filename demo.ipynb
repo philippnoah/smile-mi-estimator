{
 "cells": [
  {
   "cell_type": "code",
   "execution_count": 2,
   "metadata": {},
   "outputs": [],
   "source": [
    "%matplotlib inline\n",
    "%load_ext autoreload\n",
    "%autoreload 2\n",
    "\n",
    "import numpy as np\n",
    "import pandas as pd\n",
    "import torch\n",
    "import torch.nn as nn\n",
    "import torch.nn.functional as F\n",
    "import torch.optim as optim\n",
    "# import pdb\n",
    "import matplotlib.pyplot as plt\n",
    "import seaborn as sns"
   ]
  },
  {
   "cell_type": "markdown",
   "metadata": {},
   "source": [
    "Import relevant helper functions.\n",
    "The utils file contains implementations of dataset-specific functions, and the estimators file implements several different estimators including:\n",
    "- InfoNCE\n",
    "- NWJ lower bound\n",
    "- NWJ eval + JS train\n",
    "- Donsker-Varadhan lower bound\n",
    "- SMILE"
   ]
  },
  {
   "cell_type": "markdown",
   "metadata": {},
   "source": [
    "Next, we define the helper function for setting up the training procedure."
   ]
  },
  {
   "cell_type": "code",
   "execution_count": 3,
   "metadata": {},
   "outputs": [],
   "source": [
    "from utils import *\n",
    "from estimators import estimate_mutual_information"
   ]
  },
  {
   "cell_type": "code",
   "execution_count": 4,
   "metadata": {},
   "outputs": [],
   "source": [
    "class SeparableCritic(nn.Module):\n",
    "    \"\"\"Separable critic. where the output value is g(x) h(y). \"\"\"\n",
    "\n",
    "    def __init__(self, dim, hidden_dim, embed_dim, layers, activation, y_dim=10, **extra_kwargs):\n",
    "        super(SeparableCritic, self).__init__()\n",
    "        self._g = mlp(dim, hidden_dim, embed_dim, layers, activation)\n",
    "        self._h = mlp(y_dim, hidden_dim, embed_dim, layers, activation)\n",
    "\n",
    "    def forward(self, x, y):\n",
    "        g = self._g(x).t()\n",
    "        h = self._h(y)\n",
    "        scores = torch.matmul(h, g)\n",
    "        return scores"
   ]
  },
  {
   "cell_type": "code",
   "execution_count": 5,
   "metadata": {},
   "outputs": [],
   "source": [
    "# define the dimension of the Gaussian\n",
    "\n",
    "dim = 200\n",
    "\n",
    "# define the training procedure\n",
    "\n",
    "CRITICS = {\n",
    "    'separable': SeparableCritic,\n",
    "    'concat': ConcatCritic,\n",
    "}\n",
    "\n",
    "BASELINES = {\n",
    "    'constant': lambda: None,\n",
    "    # 'unnormalized': lambda: mlp(dim=dim, hidden_dim=512, output_dim=1, layers=2, activation='relu').cuda(),\n",
    "    'unnormalized': lambda: mlp(dim=dim, hidden_dim=512, output_dim=1, layers=2, activation='relu').cpu(),\n",
    "    'gaussian': lambda: log_prob_gaussian,\n",
    "}\n",
    "\n",
    "\n",
    "def train_estimator(critic_params, data_params, mi_params, opt_params, data_loader=None, **kwargs):\n",
    "    \"\"\"Main training loop that estimates time-varying MI.\"\"\"\n",
    "    # Ground truth rho is only used by conditional critic\n",
    "    # critic = CRITICS[mi_params.get('critic', 'separable')](rho=None, **critic_params).cuda()\n",
    "    critic = CRITICS[mi_params.get('critic', 'separable')](rho=None, **critic_params).cpu()\n",
    "    baseline = BASELINES[mi_params.get('baseline', 'constant')]()\n",
    "\n",
    "    opt_crit = optim.Adam(critic.parameters(), lr=opt_params['learning_rate'])\n",
    "    if isinstance(baseline, nn.Module):\n",
    "        opt_base = optim.Adam(baseline.parameters(),\n",
    "                              lr=opt_params['learning_rate'])\n",
    "    else:\n",
    "        opt_base = None\n",
    "\n",
    "    def train_step(rho, data_params, mi_params):\n",
    "        # Annoying special case:\n",
    "        # For the true conditional, the critic depends on the true correlation rho,\n",
    "        # so we rebuild the critic at each iteration.\n",
    "        opt_crit.zero_grad()\n",
    "        if isinstance(baseline, nn.Module):\n",
    "            opt_base.zero_grad()\n",
    "\n",
    "        if mi_params['critic'] == 'conditional':\n",
    "            # critic_ = CRITICS['conditional'](rho=rho).cuda()\n",
    "            critic_ = CRITICS['conditional'](rho=rho).cpu()\n",
    "        else:\n",
    "            critic_ = critic\n",
    "\n",
    "        # batch_idx, (x, y) = next(data_loader)\n",
    "        # x = x.squeeze(dim=1)\n",
    "        # x = torch.flatten(x, start_dim=1)\n",
    "\n",
    "        x, y = sample_correlated_gaussian(\n",
    "            dim=data_params['dim'], rho=rho, batch_size=data_params['batch_size'], cubic=data_params['cubic'])\n",
    "        mi = estimate_mutual_information(\n",
    "            mi_params['estimator'], x, y, critic_, baseline, mi_params.get('alpha_logit', None), **kwargs)\n",
    "        loss = -mi\n",
    "\n",
    "        loss.backward()\n",
    "        opt_crit.step()\n",
    "        if isinstance(baseline, nn.Module):\n",
    "            opt_base.step()\n",
    "\n",
    "        return mi\n",
    "\n",
    "    # Schedule of correlation over iterations\n",
    "    mis = mi_schedule(opt_params['iterations'])\n",
    "    rhos = mi_to_rho(data_params['dim'], mis)\n",
    "\n",
    "    estimates = []\n",
    "    for i in range(opt_params['iterations']):\n",
    "        mi = train_step(rhos[i], data_params, mi_params)\n",
    "        mi = mi.detach().cpu().numpy()\n",
    "        # if i % (opt_params['iterations']//4) == 0:\n",
    "        #     print('iteration: ', i)\n",
    "        estimates.append(mi)\n",
    "\n",
    "    return np.array(estimates)"
   ]
  },
  {
   "cell_type": "markdown",
   "metadata": {},
   "source": [
    "Parameters for the dataset, critic and optimization are listed below. For `cubic` results, set `'cubic': True` in `data_params`."
   ]
  },
  {
   "cell_type": "code",
   "execution_count": 6,
   "metadata": {},
   "outputs": [],
   "source": [
    "data_params = {\n",
    "    'dim': dim,\n",
    "    'batch_size': 64,\n",
    "    'cubic': None\n",
    "}\n",
    "\n",
    "critic_params = {\n",
    "    'dim': dim,\n",
    "    'layers': 2,\n",
    "    'embed_dim': 32,\n",
    "    'hidden_dim': 256,\n",
    "    'activation': 'relu',\n",
    "}\n",
    "\n",
    "opt_params = {\n",
    "    'iterations': 50,\n",
    "    'learning_rate': 5e-4,\n",
    "}"
   ]
  },
  {
   "cell_type": "markdown",
   "metadata": {},
   "source": [
    "Perform training over the methods. Each method should take around 2 mins to run on a single GPU under the current experiment setting."
   ]
  },
  {
   "cell_type": "code",
   "execution_count": 7,
   "metadata": {},
   "outputs": [],
   "source": [
    "rho = 0.5\n",
    "x,y = sample_correlated_gaussian(dim=400, rho=rho, batch_size=data_params['batch_size'], cubic=data_params['cubic'])"
   ]
  },
  {
   "cell_type": "code",
   "execution_count": 8,
   "metadata": {},
   "outputs": [
    {
     "name": "stdout",
     "output_type": "stream",
     "text": [
      " ========  critic:  separable\n",
      " ====  estimator:  infonce\n"
     ]
    },
    {
     "ename": "TypeError",
     "evalue": "super(type, obj): obj must be an instance or subtype of type",
     "output_type": "error",
     "traceback": [
      "\u001b[0;31m---------------------------------------------------------------------------\u001b[0m",
      "\u001b[0;31mTypeError\u001b[0m                                 Traceback (most recent call last)",
      "\u001b[1;32m/Users/philippeibl/Documents/administrative/professional/research/ils/information_theory/dev/smile-mi-estimator/demo.ipynb Cell 11'\u001b[0m in \u001b[0;36m<cell line: 8>\u001b[0;34m()\u001b[0m\n\u001b[1;32m     <a href='vscode-notebook-cell:/Users/philippeibl/Documents/administrative/professional/research/ils/information_theory/dev/smile-mi-estimator/demo.ipynb#ch0000010?line=12'>13</a>\u001b[0m     \u001b[39mprint\u001b[39m(\u001b[39m\"\u001b[39m\u001b[39m ====  estimator: \u001b[39m\u001b[39m\"\u001b[39m, estimator)\n\u001b[1;32m     <a href='vscode-notebook-cell:/Users/philippeibl/Documents/administrative/professional/research/ils/information_theory/dev/smile-mi-estimator/demo.ipynb#ch0000010?line=13'>14</a>\u001b[0m     mi_params \u001b[39m=\u001b[39m \u001b[39mdict\u001b[39m(estimator\u001b[39m=\u001b[39mestimator, critic\u001b[39m=\u001b[39mcritic_type, baseline\u001b[39m=\u001b[39m\u001b[39m'\u001b[39m\u001b[39munnormalized\u001b[39m\u001b[39m'\u001b[39m)\n\u001b[0;32m---> <a href='vscode-notebook-cell:/Users/philippeibl/Documents/administrative/professional/research/ils/information_theory/dev/smile-mi-estimator/demo.ipynb#ch0000010?line=14'>15</a>\u001b[0m     mis \u001b[39m=\u001b[39m train_estimator(critic_params, data_params, mi_params, opt_params, data_loader\u001b[39m=\u001b[39;49mdata_loader)\n\u001b[1;32m     <a href='vscode-notebook-cell:/Users/philippeibl/Documents/administrative/professional/research/ils/information_theory/dev/smile-mi-estimator/demo.ipynb#ch0000010?line=15'>16</a>\u001b[0m     mi_numpys[critic_type][\u001b[39mf\u001b[39m\u001b[39m'\u001b[39m\u001b[39m{\u001b[39;00mestimator\u001b[39m}\u001b[39;00m\u001b[39m'\u001b[39m] \u001b[39m=\u001b[39m mis\n\u001b[1;32m     <a href='vscode-notebook-cell:/Users/philippeibl/Documents/administrative/professional/research/ils/information_theory/dev/smile-mi-estimator/demo.ipynb#ch0000010?line=17'>18</a>\u001b[0m estimator \u001b[39m=\u001b[39m \u001b[39m'\u001b[39m\u001b[39msmile\u001b[39m\u001b[39m'\u001b[39m\n",
      "\u001b[1;32m/Users/philippeibl/Documents/administrative/professional/research/ils/information_theory/dev/smile-mi-estimator/demo.ipynb Cell 6'\u001b[0m in \u001b[0;36mtrain_estimator\u001b[0;34m(critic_params, data_params, mi_params, opt_params, data_loader, **kwargs)\u001b[0m\n\u001b[1;32m     <a href='vscode-notebook-cell:/Users/philippeibl/Documents/administrative/professional/research/ils/information_theory/dev/smile-mi-estimator/demo.ipynb#ch0000005?line=20'>21</a>\u001b[0m \u001b[39m\"\"\"Main training loop that estimates time-varying MI.\"\"\"\u001b[39;00m\n\u001b[1;32m     <a href='vscode-notebook-cell:/Users/philippeibl/Documents/administrative/professional/research/ils/information_theory/dev/smile-mi-estimator/demo.ipynb#ch0000005?line=21'>22</a>\u001b[0m \u001b[39m# Ground truth rho is only used by conditional critic\u001b[39;00m\n\u001b[1;32m     <a href='vscode-notebook-cell:/Users/philippeibl/Documents/administrative/professional/research/ils/information_theory/dev/smile-mi-estimator/demo.ipynb#ch0000005?line=22'>23</a>\u001b[0m \u001b[39m# critic = CRITICS[mi_params.get('critic', 'separable')](rho=None, **critic_params).cuda()\u001b[39;00m\n\u001b[0;32m---> <a href='vscode-notebook-cell:/Users/philippeibl/Documents/administrative/professional/research/ils/information_theory/dev/smile-mi-estimator/demo.ipynb#ch0000005?line=23'>24</a>\u001b[0m critic \u001b[39m=\u001b[39m CRITICS[mi_params\u001b[39m.\u001b[39;49mget(\u001b[39m'\u001b[39;49m\u001b[39mcritic\u001b[39;49m\u001b[39m'\u001b[39;49m, \u001b[39m'\u001b[39;49m\u001b[39mseparable\u001b[39;49m\u001b[39m'\u001b[39;49m)](rho\u001b[39m=\u001b[39;49m\u001b[39mNone\u001b[39;49;00m, \u001b[39m*\u001b[39;49m\u001b[39m*\u001b[39;49mcritic_params)\u001b[39m.\u001b[39mcpu()\n\u001b[1;32m     <a href='vscode-notebook-cell:/Users/philippeibl/Documents/administrative/professional/research/ils/information_theory/dev/smile-mi-estimator/demo.ipynb#ch0000005?line=24'>25</a>\u001b[0m baseline \u001b[39m=\u001b[39m BASELINES[mi_params\u001b[39m.\u001b[39mget(\u001b[39m'\u001b[39m\u001b[39mbaseline\u001b[39m\u001b[39m'\u001b[39m, \u001b[39m'\u001b[39m\u001b[39mconstant\u001b[39m\u001b[39m'\u001b[39m)]()\n\u001b[1;32m     <a href='vscode-notebook-cell:/Users/philippeibl/Documents/administrative/professional/research/ils/information_theory/dev/smile-mi-estimator/demo.ipynb#ch0000005?line=26'>27</a>\u001b[0m opt_crit \u001b[39m=\u001b[39m optim\u001b[39m.\u001b[39mAdam(critic\u001b[39m.\u001b[39mparameters(), lr\u001b[39m=\u001b[39mopt_params[\u001b[39m'\u001b[39m\u001b[39mlearning_rate\u001b[39m\u001b[39m'\u001b[39m])\n",
      "\u001b[1;32m/Users/philippeibl/Documents/administrative/professional/research/ils/information_theory/dev/smile-mi-estimator/demo.ipynb Cell 5'\u001b[0m in \u001b[0;36mSeparableCritic.__init__\u001b[0;34m(self, dim, hidden_dim, embed_dim, layers, activation, y_dim, **extra_kwargs)\u001b[0m\n\u001b[1;32m      <a href='vscode-notebook-cell:/Users/philippeibl/Documents/administrative/professional/research/ils/information_theory/dev/smile-mi-estimator/demo.ipynb#ch0000021?line=3'>4</a>\u001b[0m \u001b[39mdef\u001b[39;00m \u001b[39m__init__\u001b[39m(\u001b[39mself\u001b[39m, dim, hidden_dim, embed_dim, layers, activation, y_dim\u001b[39m=\u001b[39m\u001b[39m10\u001b[39m, \u001b[39m*\u001b[39m\u001b[39m*\u001b[39mextra_kwargs):\n\u001b[0;32m----> <a href='vscode-notebook-cell:/Users/philippeibl/Documents/administrative/professional/research/ils/information_theory/dev/smile-mi-estimator/demo.ipynb#ch0000021?line=4'>5</a>\u001b[0m     \u001b[39msuper\u001b[39;49m(SeparableCritic, \u001b[39mself\u001b[39;49m)\u001b[39m.\u001b[39m\u001b[39m__init__\u001b[39m()\n\u001b[1;32m      <a href='vscode-notebook-cell:/Users/philippeibl/Documents/administrative/professional/research/ils/information_theory/dev/smile-mi-estimator/demo.ipynb#ch0000021?line=5'>6</a>\u001b[0m     \u001b[39mself\u001b[39m\u001b[39m.\u001b[39m_g \u001b[39m=\u001b[39m mlp(dim, hidden_dim, embed_dim, layers, activation)\n\u001b[1;32m      <a href='vscode-notebook-cell:/Users/philippeibl/Documents/administrative/professional/research/ils/information_theory/dev/smile-mi-estimator/demo.ipynb#ch0000021?line=6'>7</a>\u001b[0m     \u001b[39mself\u001b[39m\u001b[39m.\u001b[39m_h \u001b[39m=\u001b[39m mlp(y_dim, hidden_dim, embed_dim, layers, activation)\n",
      "\u001b[0;31mTypeError\u001b[0m: super(type, obj): obj must be an instance or subtype of type"
     ]
    }
   ],
   "source": [
    "# from utils import *\n",
    "from estimators import estimate_mutual_information\n",
    "\n",
    "mi_numpys = dict()\n",
    "\n",
    "data_loader = None\n",
    "# for critic_type in ['separable', 'concat']:\n",
    "for critic_type in ['separable']:\n",
    "    print(\" ========  critic: \", critic_type)\n",
    "    mi_numpys[critic_type] = dict()\n",
    "\n",
    "    for estimator in ['infonce', 'nwj', 'js', 'smile']:\n",
    "        print(\" ====  estimator: \", estimator)\n",
    "        mi_params = dict(estimator=estimator, critic=critic_type, baseline='unnormalized')\n",
    "        mis = train_estimator(critic_params, data_params, mi_params, opt_params, data_loader=data_loader)\n",
    "        mi_numpys[critic_type][f'{estimator}'] = mis\n",
    "\n",
    "    estimator = 'smile'\n",
    "    for i, clip in enumerate([1.0, 5.0]):\n",
    "        print(\" ====  clip: \", clip)\n",
    "        mi_params = dict(estimator=estimator, critic=critic_type, baseline='unnormalized')\n",
    "        mis = train_estimator(critic_params, data_params, mi_params, opt_params, clip=clip)\n",
    "        mi_numpys[critic_type][f'{estimator}_{clip}'] = mis"
   ]
  },
  {
   "cell_type": "markdown",
   "metadata": {},
   "source": [
    "Plot the results."
   ]
  },
  {
   "cell_type": "code",
   "execution_count": null,
   "metadata": {},
   "outputs": [],
   "source": [
    "# Plotting helper functions.\n",
    "\n",
    "def find_name(name):\n",
    "    if 'smile_' in name:\n",
    "        clip = name.split('_')[-1]\n",
    "        return f'SMILE ($\\\\tau = {clip}$)'\n",
    "    else:\n",
    "        return {\n",
    "            'infonce': 'CPC',\n",
    "            'js': 'JS',\n",
    "            'nwj': 'NWJ',\n",
    "            'flow': 'GM (Flow)',\n",
    "            'smile': 'SMILE ($\\\\tau = \\\\infty$)'\n",
    "        }[name]\n",
    "\n",
    "def find_legend(label):\n",
    "    return {'concat': 'Joint critic', 'separable': 'Separable critic'}[label]"
   ]
  },
  {
   "cell_type": "code",
   "execution_count": null,
   "metadata": {},
   "outputs": [
    {
     "data": {
      "image/png": "[encoded data removed]",
      "text/plain": [
       "<Figure size 1440x288 with 5 Axes>"
      ]
     },
     "metadata": {
      "needs_background": "light"
     },
     "output_type": "display_data"
    }
   ],
   "source": [
    "# Plot 5 of the results, InfoNCE, NWJ, Smile 1.0, 5.0, infty\n",
    "\n",
    "ncols = 5\n",
    "nrows = 1\n",
    "EMA_SPAN = 200\n",
    "fig, axs = plt.subplots(nrows, ncols, figsize=(4 * ncols, 4 * nrows))\n",
    "axs = np.ravel(axs)\n",
    "\n",
    "mi_true = mi_schedule(opt_params['iterations'])\n",
    "        \n",
    "for i, estimator in enumerate(['infonce', 'nwj']):\n",
    "    key = f'{estimator}'\n",
    "    plt.sca(axs[i])\n",
    "    plt.title(find_name(key), fontsize=18)\n",
    "    for net in ['separable']:\n",
    "        mis = mi_numpys[net][key]\n",
    "        p1 = plt.plot(mis, alpha=0.3)[0]\n",
    "        mis_smooth = pd.Series(mis).ewm(span=EMA_SPAN).mean()\n",
    "        plt.plot(mis_smooth, c=p1.get_color(), label=find_legend(net))\n",
    "    plt.ylim(0, mi_true.max() * 1.1)\n",
    "    plt.xlim(0, opt_params['iterations'])\n",
    "    plt.plot(mi_true, color='k', label='True MI')\n",
    "    if i == 0:\n",
    "        plt.ylabel('MI (nats)')\n",
    "        plt.xlabel('Steps')\n",
    "        plt.axhline(np.log(64), color='k', ls='--', label='log(bs)')\n",
    "        plt.legend()\n",
    "\n",
    "estimator = 'smile'\n",
    "for i, clip in enumerate([1.0, 5.0, None]):\n",
    "    if clip is None:\n",
    "        key = estimator\n",
    "    else:\n",
    "        key = f'{estimator}_{clip}'\n",
    "\n",
    "    plt.sca(axs[i+2])\n",
    "    plt.title(find_name(key), fontsize=18)\n",
    "    for net in ['separable']:\n",
    "        mis = mi_numpys[net][key]\n",
    "        EMA_SPAN = 200\n",
    "        p1 = plt.plot(mis, alpha=0.3)[0]\n",
    "        mis_smooth = pd.Series(mis).ewm(span=EMA_SPAN).mean()\n",
    "        plt.plot(mis_smooth, c=p1.get_color(), label=find_legend(net))\n",
    "    plt.plot(mi_true, color='k', label='True MI')\n",
    "    plt.ylim(0, mi_true.max() * 1.1)\n",
    "    plt.xlim(0, opt_params['iterations'])\n",
    "\n",
    "plt.gcf().tight_layout()"
   ]
  },
  {
   "cell_type": "markdown",
   "metadata": {},
   "source": [
    "From the results above, the SMILE estimators have much better performance compared to the alternative methods with clipping.\n",
    "We note that SMILE (infty) is simply a version of DV + JS, where we obtain density ratios from JS and use DV to directly estimate the mutual information. This has much higher variance, and is biased lower."
   ]
  },
  {
   "cell_type": "code",
   "execution_count": null,
   "metadata": {},
   "outputs": [],
   "source": []
  }
 ],
 "metadata": {
  "file_extension": ".py",
  "kernelspec": {
   "display_name": "Python 3",
   "name": "python3"
  },
  "language_info": {
   "codemirror_mode": {
    "name": "ipython",
    "version": 3
   },
   "file_extension": ".py",
   "mimetype": "text/x-python",
   "name": "python",
   "nbconvert_exporter": "python",
   "pygments_lexer": "ipython3",
   "version": "3.9.7"
  },
  "mimetype": "text/x-python",
  "name": "python",
  "npconvert_exporter": "python",
  "orig_nbformat": 2,
  "pygments_lexer": "ipython3",
  "version": 3
 },
 "nbformat": 4,
 "nbformat_minor": 2
}
