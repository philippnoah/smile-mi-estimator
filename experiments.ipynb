{
 "cells": [
  {
   "cell_type": "code",
   "execution_count": 1,
   "metadata": {},
   "outputs": [
    {
     "ename": "ImportError",
     "evalue": "cannot import name 'PILLOW_VERSION' from 'PIL' (/Users/philippeibl/miniforge3/envs/py39/lib/python3.9/site-packages/PIL/__init__.py)",
     "output_type": "error",
     "traceback": [
      "\u001b[0;31m---------------------------------------------------------------------------\u001b[0m",
      "\u001b[0;31mImportError\u001b[0m                               Traceback (most recent call last)",
      "\u001b[1;32m/Users/philippeibl/Documents/administrative/professional/research/ils/information_theory/dev/smile-mi-estimator/experiments.ipynb Cell 1'\u001b[0m in \u001b[0;36m<cell line: 2>\u001b[0;34m()\u001b[0m\n\u001b[1;32m      <a href='vscode-notebook-cell:/Users/philippeibl/Documents/administrative/professional/research/ils/information_theory/dev/smile-mi-estimator/experiments.ipynb#ch0000000?line=0'>1</a>\u001b[0m \u001b[39mimport\u001b[39;00m \u001b[39mtorch\u001b[39;00m\n\u001b[0;32m----> <a href='vscode-notebook-cell:/Users/philippeibl/Documents/administrative/professional/research/ils/information_theory/dev/smile-mi-estimator/experiments.ipynb#ch0000000?line=1'>2</a>\u001b[0m \u001b[39mimport\u001b[39;00m \u001b[39mtorchvision\u001b[39;00m\n",
      "File \u001b[0;32m~/miniforge3/envs/py39/lib/python3.9/site-packages/torchvision/__init__.py:2\u001b[0m, in \u001b[0;36m<module>\u001b[0;34m\u001b[0m\n\u001b[1;32m      <a href='file:///Users/philippeibl/miniforge3/envs/py39/lib/python3.9/site-packages/torchvision/__init__.py?line=0'>1</a>\u001b[0m \u001b[39mfrom\u001b[39;00m \u001b[39mtorchvision\u001b[39;00m \u001b[39mimport\u001b[39;00m models\n\u001b[0;32m----> <a href='file:///Users/philippeibl/miniforge3/envs/py39/lib/python3.9/site-packages/torchvision/__init__.py?line=1'>2</a>\u001b[0m \u001b[39mfrom\u001b[39;00m \u001b[39mtorchvision\u001b[39;00m \u001b[39mimport\u001b[39;00m datasets\n\u001b[1;32m      <a href='file:///Users/philippeibl/miniforge3/envs/py39/lib/python3.9/site-packages/torchvision/__init__.py?line=2'>3</a>\u001b[0m \u001b[39mfrom\u001b[39;00m \u001b[39mtorchvision\u001b[39;00m \u001b[39mimport\u001b[39;00m transforms\n\u001b[1;32m      <a href='file:///Users/philippeibl/miniforge3/envs/py39/lib/python3.9/site-packages/torchvision/__init__.py?line=3'>4</a>\u001b[0m \u001b[39mfrom\u001b[39;00m \u001b[39mtorchvision\u001b[39;00m \u001b[39mimport\u001b[39;00m utils\n",
      "File \u001b[0;32m~/miniforge3/envs/py39/lib/python3.9/site-packages/torchvision/datasets/__init__.py:9\u001b[0m, in \u001b[0;36m<module>\u001b[0;34m\u001b[0m\n\u001b[1;32m      <a href='file:///Users/philippeibl/miniforge3/envs/py39/lib/python3.9/site-packages/torchvision/datasets/__init__.py?line=6'>7</a>\u001b[0m \u001b[39mfrom\u001b[39;00m \u001b[39m.\u001b[39;00m\u001b[39msvhn\u001b[39;00m \u001b[39mimport\u001b[39;00m SVHN\n\u001b[1;32m      <a href='file:///Users/philippeibl/miniforge3/envs/py39/lib/python3.9/site-packages/torchvision/datasets/__init__.py?line=7'>8</a>\u001b[0m \u001b[39mfrom\u001b[39;00m \u001b[39m.\u001b[39;00m\u001b[39mphototour\u001b[39;00m \u001b[39mimport\u001b[39;00m PhotoTour\n\u001b[0;32m----> <a href='file:///Users/philippeibl/miniforge3/envs/py39/lib/python3.9/site-packages/torchvision/datasets/__init__.py?line=8'>9</a>\u001b[0m \u001b[39mfrom\u001b[39;00m \u001b[39m.\u001b[39;00m\u001b[39mfakedata\u001b[39;00m \u001b[39mimport\u001b[39;00m FakeData\n\u001b[1;32m     <a href='file:///Users/philippeibl/miniforge3/envs/py39/lib/python3.9/site-packages/torchvision/datasets/__init__.py?line=9'>10</a>\u001b[0m \u001b[39mfrom\u001b[39;00m \u001b[39m.\u001b[39;00m\u001b[39msemeion\u001b[39;00m \u001b[39mimport\u001b[39;00m SEMEION\n\u001b[1;32m     <a href='file:///Users/philippeibl/miniforge3/envs/py39/lib/python3.9/site-packages/torchvision/datasets/__init__.py?line=10'>11</a>\u001b[0m \u001b[39mfrom\u001b[39;00m \u001b[39m.\u001b[39;00m\u001b[39momniglot\u001b[39;00m \u001b[39mimport\u001b[39;00m Omniglot\n",
      "File \u001b[0;32m~/miniforge3/envs/py39/lib/python3.9/site-packages/torchvision/datasets/fakedata.py:3\u001b[0m, in \u001b[0;36m<module>\u001b[0;34m\u001b[0m\n\u001b[1;32m      <a href='file:///Users/philippeibl/miniforge3/envs/py39/lib/python3.9/site-packages/torchvision/datasets/fakedata.py?line=0'>1</a>\u001b[0m \u001b[39mimport\u001b[39;00m \u001b[39mtorch\u001b[39;00m\n\u001b[1;32m      <a href='file:///Users/philippeibl/miniforge3/envs/py39/lib/python3.9/site-packages/torchvision/datasets/fakedata.py?line=1'>2</a>\u001b[0m \u001b[39mimport\u001b[39;00m \u001b[39mtorch\u001b[39;00m\u001b[39m.\u001b[39;00m\u001b[39mutils\u001b[39;00m\u001b[39m.\u001b[39;00m\u001b[39mdata\u001b[39;00m \u001b[39mas\u001b[39;00m \u001b[39mdata\u001b[39;00m\n\u001b[0;32m----> <a href='file:///Users/philippeibl/miniforge3/envs/py39/lib/python3.9/site-packages/torchvision/datasets/fakedata.py?line=2'>3</a>\u001b[0m \u001b[39mfrom\u001b[39;00m \u001b[39m.\u001b[39;00m\u001b[39m.\u001b[39;00m \u001b[39mimport\u001b[39;00m transforms\n\u001b[1;32m      <a href='file:///Users/philippeibl/miniforge3/envs/py39/lib/python3.9/site-packages/torchvision/datasets/fakedata.py?line=5'>6</a>\u001b[0m \u001b[39mclass\u001b[39;00m \u001b[39mFakeData\u001b[39;00m(data\u001b[39m.\u001b[39mDataset):\n\u001b[1;32m      <a href='file:///Users/philippeibl/miniforge3/envs/py39/lib/python3.9/site-packages/torchvision/datasets/fakedata.py?line=6'>7</a>\u001b[0m     \u001b[39m\"\"\"A fake dataset that returns randomly generated images and returns them as PIL images\u001b[39;00m\n\u001b[1;32m      <a href='file:///Users/philippeibl/miniforge3/envs/py39/lib/python3.9/site-packages/torchvision/datasets/fakedata.py?line=7'>8</a>\u001b[0m \n\u001b[1;32m      <a href='file:///Users/philippeibl/miniforge3/envs/py39/lib/python3.9/site-packages/torchvision/datasets/fakedata.py?line=8'>9</a>\u001b[0m \u001b[39m    Args:\u001b[39;00m\n\u001b[0;32m   (...)\u001b[0m\n\u001b[1;32m     <a href='file:///Users/philippeibl/miniforge3/envs/py39/lib/python3.9/site-packages/torchvision/datasets/fakedata.py?line=18'>19</a>\u001b[0m \n\u001b[1;32m     <a href='file:///Users/philippeibl/miniforge3/envs/py39/lib/python3.9/site-packages/torchvision/datasets/fakedata.py?line=19'>20</a>\u001b[0m \u001b[39m    \"\"\"\u001b[39;00m\n",
      "File \u001b[0;32m~/miniforge3/envs/py39/lib/python3.9/site-packages/torchvision/transforms/__init__.py:1\u001b[0m, in \u001b[0;36m<module>\u001b[0;34m\u001b[0m\n\u001b[0;32m----> <a href='file:///Users/philippeibl/miniforge3/envs/py39/lib/python3.9/site-packages/torchvision/transforms/__init__.py?line=0'>1</a>\u001b[0m \u001b[39mfrom\u001b[39;00m \u001b[39m.\u001b[39;00m\u001b[39mtransforms\u001b[39;00m \u001b[39mimport\u001b[39;00m \u001b[39m*\u001b[39m\n",
      "File \u001b[0;32m~/miniforge3/envs/py39/lib/python3.9/site-packages/torchvision/transforms/transforms.py:17\u001b[0m, in \u001b[0;36m<module>\u001b[0;34m\u001b[0m\n\u001b[1;32m     <a href='file:///Users/philippeibl/miniforge3/envs/py39/lib/python3.9/site-packages/torchvision/transforms/transforms.py?line=13'>14</a>\u001b[0m \u001b[39mimport\u001b[39;00m \u001b[39mcollections\u001b[39;00m\n\u001b[1;32m     <a href='file:///Users/philippeibl/miniforge3/envs/py39/lib/python3.9/site-packages/torchvision/transforms/transforms.py?line=14'>15</a>\u001b[0m \u001b[39mimport\u001b[39;00m \u001b[39mwarnings\u001b[39;00m\n\u001b[0;32m---> <a href='file:///Users/philippeibl/miniforge3/envs/py39/lib/python3.9/site-packages/torchvision/transforms/transforms.py?line=16'>17</a>\u001b[0m \u001b[39mfrom\u001b[39;00m \u001b[39m.\u001b[39;00m \u001b[39mimport\u001b[39;00m functional \u001b[39mas\u001b[39;00m F\n\u001b[1;32m     <a href='file:///Users/philippeibl/miniforge3/envs/py39/lib/python3.9/site-packages/torchvision/transforms/transforms.py?line=18'>19</a>\u001b[0m \u001b[39mif\u001b[39;00m sys\u001b[39m.\u001b[39mversion_info \u001b[39m<\u001b[39m (\u001b[39m3\u001b[39m, \u001b[39m3\u001b[39m):\n\u001b[1;32m     <a href='file:///Users/philippeibl/miniforge3/envs/py39/lib/python3.9/site-packages/torchvision/transforms/transforms.py?line=19'>20</a>\u001b[0m     Sequence \u001b[39m=\u001b[39m collections\u001b[39m.\u001b[39mSequence\n",
      "File \u001b[0;32m~/miniforge3/envs/py39/lib/python3.9/site-packages/torchvision/transforms/functional.py:5\u001b[0m, in \u001b[0;36m<module>\u001b[0;34m\u001b[0m\n\u001b[1;32m      <a href='file:///Users/philippeibl/miniforge3/envs/py39/lib/python3.9/site-packages/torchvision/transforms/functional.py?line=2'>3</a>\u001b[0m \u001b[39mimport\u001b[39;00m \u001b[39msys\u001b[39;00m\n\u001b[1;32m      <a href='file:///Users/philippeibl/miniforge3/envs/py39/lib/python3.9/site-packages/torchvision/transforms/functional.py?line=3'>4</a>\u001b[0m \u001b[39mimport\u001b[39;00m \u001b[39mmath\u001b[39;00m\n\u001b[0;32m----> <a href='file:///Users/philippeibl/miniforge3/envs/py39/lib/python3.9/site-packages/torchvision/transforms/functional.py?line=4'>5</a>\u001b[0m \u001b[39mfrom\u001b[39;00m \u001b[39mPIL\u001b[39;00m \u001b[39mimport\u001b[39;00m Image, ImageOps, ImageEnhance, PILLOW_VERSION\n\u001b[1;32m      <a href='file:///Users/philippeibl/miniforge3/envs/py39/lib/python3.9/site-packages/torchvision/transforms/functional.py?line=5'>6</a>\u001b[0m \u001b[39mtry\u001b[39;00m:\n\u001b[1;32m      <a href='file:///Users/philippeibl/miniforge3/envs/py39/lib/python3.9/site-packages/torchvision/transforms/functional.py?line=6'>7</a>\u001b[0m     \u001b[39mimport\u001b[39;00m \u001b[39maccimage\u001b[39;00m\n",
      "\u001b[0;31mImportError\u001b[0m: cannot import name 'PILLOW_VERSION' from 'PIL' (/Users/philippeibl/miniforge3/envs/py39/lib/python3.9/site-packages/PIL/__init__.py)"
     ]
    }
   ],
   "source": [
    "import torch\n",
    "import torchvision"
   ]
  },
  {
   "cell_type": "code",
   "execution_count": null,
   "metadata": {},
   "outputs": [],
   "source": [
    "n_epochs = 3\n",
    "batch_size_train = 64\n",
    "batch_size_test = 1000\n",
    "learning_rate = 0.01\n",
    "momentum = 0.5\n",
    "log_interval = 10\n",
    "\n",
    "random_seed = 1\n",
    "torch.backends.cudnn.enabled = False\n",
    "torch.manual_seed(random_seed)"
   ]
  },
  {
   "cell_type": "code",
   "execution_count": null,
   "metadata": {},
   "outputs": [],
   "source": [
    "train_loader = torch.utils.data.DataLoader(\n",
    "  torchvision.datasets.MNIST('/files/', train=True, download=True,\n",
    "                             transform=torchvision.transforms.Compose([\n",
    "                               torchvision.transforms.ToTensor(),\n",
    "                               torchvision.transforms.Normalize(\n",
    "                                 (0.1307,), (0.3081,))\n",
    "                             ])),\n",
    "  batch_size=batch_size_train, shuffle=True)\n",
    "\n",
    "test_loader = torch.utils.data.DataLoader(\n",
    "  torchvision.datasets.MNIST('/files/', train=False, download=True,\n",
    "                             transform=torchvision.transforms.Compose([\n",
    "                               torchvision.transforms.ToTensor(),\n",
    "                               torchvision.transforms.Normalize(\n",
    "                                 (0.1307,), (0.3081,))\n",
    "                             ])),\n",
    "  batch_size=batch_size_test, shuffle=True)"
   ]
  },
  {
   "cell_type": "markdown",
   "metadata": {},
   "source": []
  }
 ],
 "metadata": {
  "interpreter": {
   "hash": "f068a28cbe5af3d098e0091c48da0dfa234f49aea6994cca69dbb4dff66a8c97"
  },
  "kernelspec": {
   "display_name": "Python 3.9.7 ('py39')",
   "language": "python",
   "name": "python3"
  },
  "language_info": {
   "codemirror_mode": {
    "name": "ipython",
    "version": 3
   },
   "file_extension": ".py",
   "mimetype": "text/x-python",
   "name": "python",
   "nbconvert_exporter": "python",
   "pygments_lexer": "ipython3",
   "version": "3.9.7"
  },
  "orig_nbformat": 4
 },
 "nbformat": 4,
 "nbformat_minor": 2
}
